{
 "cells": [
  {
   "cell_type": "markdown",
   "id": "4550ba20",
   "metadata": {},
   "source": [
    "# Practice Project - 6"
   ]
  },
  {
   "cell_type": "markdown",
   "id": "16cfb20b",
   "metadata": {},
   "source": [
    "# Advertising Sales Channel Prediction\n",
    "\n",
    "# Problem Statement:\n",
    "# Sales Channel Prediction Case Study  \n",
    "\n",
    "* When a company enters a market, the distribution strategy and channel it uses are keys to its success in the market, as well as market know-how and customer knowledge and understanding. Because an effective distribution strategy under efficient supply-chain management opens doors for attaining competitive advantage and strong brand equity in the market, it is a component of the marketing mix that cannot be ignored . \n",
    "\n",
    "* The distribution strategy and the channel design have to be right the first time. The case study of Sales channel includes the detailed study of TV, radio and newspaper channel. The predict the total sales generated from all the sales channel.  \n",
    "\n"
   ]
  },
  {
   "cell_type": "markdown",
   "id": "8b30f03c",
   "metadata": {},
   "source": [
    "# Importing necessary libraries"
   ]
  },
  {
   "cell_type": "code",
   "execution_count": 66,
   "id": "95b06da1",
   "metadata": {},
   "outputs": [],
   "source": [
    "from sklearn.preprocessing import StandardScaler\n",
    "from sklearn.model_selection import train_test_split\n",
    "from sklearn.linear_model import LinearRegression\n",
    "from sklearn.svm import SVR\n",
    "from sklearn.metrics import mean_squared_error,mean_absolute_error,r2_score\n",
    "from sklearn.model_selection import cross_val_score\n",
    "from sklearn.model_selection import GridSearchCV\n",
    "from sklearn.linear_model import Lasso\n",
    "import pandas as pd\n",
    "import numpy as np\n",
    "import matplotlib.pyplot as plt\n",
    "import seaborn as sns\n",
    "import warnings\n",
    "warnings.filterwarnings('ignore')"
   ]
  },
  {
   "cell_type": "code",
   "execution_count": 9,
   "id": "1fa60da6",
   "metadata": {},
   "outputs": [
    {
     "data": {
      "text/html": [
       "<div>\n",
       "<style scoped>\n",
       "    .dataframe tbody tr th:only-of-type {\n",
       "        vertical-align: middle;\n",
       "    }\n",
       "\n",
       "    .dataframe tbody tr th {\n",
       "        vertical-align: top;\n",
       "    }\n",
       "\n",
       "    .dataframe thead th {\n",
       "        text-align: right;\n",
       "    }\n",
       "</style>\n",
       "<table border=\"1\" class=\"dataframe\">\n",
       "  <thead>\n",
       "    <tr style=\"text-align: right;\">\n",
       "      <th></th>\n",
       "      <th>Unnamed: 0</th>\n",
       "      <th>TV</th>\n",
       "      <th>radio</th>\n",
       "      <th>newspaper</th>\n",
       "      <th>sales</th>\n",
       "    </tr>\n",
       "  </thead>\n",
       "  <tbody>\n",
       "    <tr>\n",
       "      <th>0</th>\n",
       "      <td>1</td>\n",
       "      <td>230.1</td>\n",
       "      <td>37.8</td>\n",
       "      <td>69.2</td>\n",
       "      <td>22.1</td>\n",
       "    </tr>\n",
       "    <tr>\n",
       "      <th>1</th>\n",
       "      <td>2</td>\n",
       "      <td>44.5</td>\n",
       "      <td>39.3</td>\n",
       "      <td>45.1</td>\n",
       "      <td>10.4</td>\n",
       "    </tr>\n",
       "    <tr>\n",
       "      <th>2</th>\n",
       "      <td>3</td>\n",
       "      <td>17.2</td>\n",
       "      <td>45.9</td>\n",
       "      <td>69.3</td>\n",
       "      <td>9.3</td>\n",
       "    </tr>\n",
       "    <tr>\n",
       "      <th>3</th>\n",
       "      <td>4</td>\n",
       "      <td>151.5</td>\n",
       "      <td>41.3</td>\n",
       "      <td>58.5</td>\n",
       "      <td>18.5</td>\n",
       "    </tr>\n",
       "    <tr>\n",
       "      <th>4</th>\n",
       "      <td>5</td>\n",
       "      <td>180.8</td>\n",
       "      <td>10.8</td>\n",
       "      <td>58.4</td>\n",
       "      <td>12.9</td>\n",
       "    </tr>\n",
       "    <tr>\n",
       "      <th>...</th>\n",
       "      <td>...</td>\n",
       "      <td>...</td>\n",
       "      <td>...</td>\n",
       "      <td>...</td>\n",
       "      <td>...</td>\n",
       "    </tr>\n",
       "    <tr>\n",
       "      <th>195</th>\n",
       "      <td>196</td>\n",
       "      <td>38.2</td>\n",
       "      <td>3.7</td>\n",
       "      <td>13.8</td>\n",
       "      <td>7.6</td>\n",
       "    </tr>\n",
       "    <tr>\n",
       "      <th>196</th>\n",
       "      <td>197</td>\n",
       "      <td>94.2</td>\n",
       "      <td>4.9</td>\n",
       "      <td>8.1</td>\n",
       "      <td>9.7</td>\n",
       "    </tr>\n",
       "    <tr>\n",
       "      <th>197</th>\n",
       "      <td>198</td>\n",
       "      <td>177.0</td>\n",
       "      <td>9.3</td>\n",
       "      <td>6.4</td>\n",
       "      <td>12.8</td>\n",
       "    </tr>\n",
       "    <tr>\n",
       "      <th>198</th>\n",
       "      <td>199</td>\n",
       "      <td>283.6</td>\n",
       "      <td>42.0</td>\n",
       "      <td>66.2</td>\n",
       "      <td>25.5</td>\n",
       "    </tr>\n",
       "    <tr>\n",
       "      <th>199</th>\n",
       "      <td>200</td>\n",
       "      <td>232.1</td>\n",
       "      <td>8.6</td>\n",
       "      <td>8.7</td>\n",
       "      <td>13.4</td>\n",
       "    </tr>\n",
       "  </tbody>\n",
       "</table>\n",
       "<p>200 rows × 5 columns</p>\n",
       "</div>"
      ],
      "text/plain": [
       "     Unnamed: 0     TV  radio  newspaper  sales\n",
       "0             1  230.1   37.8       69.2   22.1\n",
       "1             2   44.5   39.3       45.1   10.4\n",
       "2             3   17.2   45.9       69.3    9.3\n",
       "3             4  151.5   41.3       58.5   18.5\n",
       "4             5  180.8   10.8       58.4   12.9\n",
       "..          ...    ...    ...        ...    ...\n",
       "195         196   38.2    3.7       13.8    7.6\n",
       "196         197   94.2    4.9        8.1    9.7\n",
       "197         198  177.0    9.3        6.4   12.8\n",
       "198         199  283.6   42.0       66.2   25.5\n",
       "199         200  232.1    8.6        8.7   13.4\n",
       "\n",
       "[200 rows x 5 columns]"
      ]
     },
     "execution_count": 9,
     "metadata": {},
     "output_type": "execute_result"
    }
   ],
   "source": [
    "df=pd.read_csv(\"Advertising.csv\")\n",
    "df\n"
   ]
  },
  {
   "cell_type": "code",
   "execution_count": 12,
   "id": "71661921",
   "metadata": {},
   "outputs": [],
   "source": [
    "df.drop(['Unnamed: 0'],axis=1,inplace=True)\n"
   ]
  },
  {
   "cell_type": "code",
   "execution_count": 13,
   "id": "3968aa0c",
   "metadata": {},
   "outputs": [
    {
     "data": {
      "text/html": [
       "<div>\n",
       "<style scoped>\n",
       "    .dataframe tbody tr th:only-of-type {\n",
       "        vertical-align: middle;\n",
       "    }\n",
       "\n",
       "    .dataframe tbody tr th {\n",
       "        vertical-align: top;\n",
       "    }\n",
       "\n",
       "    .dataframe thead th {\n",
       "        text-align: right;\n",
       "    }\n",
       "</style>\n",
       "<table border=\"1\" class=\"dataframe\">\n",
       "  <thead>\n",
       "    <tr style=\"text-align: right;\">\n",
       "      <th></th>\n",
       "      <th>TV</th>\n",
       "      <th>radio</th>\n",
       "      <th>newspaper</th>\n",
       "      <th>sales</th>\n",
       "    </tr>\n",
       "  </thead>\n",
       "  <tbody>\n",
       "    <tr>\n",
       "      <th>0</th>\n",
       "      <td>230.1</td>\n",
       "      <td>37.8</td>\n",
       "      <td>69.2</td>\n",
       "      <td>22.1</td>\n",
       "    </tr>\n",
       "    <tr>\n",
       "      <th>1</th>\n",
       "      <td>44.5</td>\n",
       "      <td>39.3</td>\n",
       "      <td>45.1</td>\n",
       "      <td>10.4</td>\n",
       "    </tr>\n",
       "    <tr>\n",
       "      <th>2</th>\n",
       "      <td>17.2</td>\n",
       "      <td>45.9</td>\n",
       "      <td>69.3</td>\n",
       "      <td>9.3</td>\n",
       "    </tr>\n",
       "    <tr>\n",
       "      <th>3</th>\n",
       "      <td>151.5</td>\n",
       "      <td>41.3</td>\n",
       "      <td>58.5</td>\n",
       "      <td>18.5</td>\n",
       "    </tr>\n",
       "    <tr>\n",
       "      <th>4</th>\n",
       "      <td>180.8</td>\n",
       "      <td>10.8</td>\n",
       "      <td>58.4</td>\n",
       "      <td>12.9</td>\n",
       "    </tr>\n",
       "    <tr>\n",
       "      <th>...</th>\n",
       "      <td>...</td>\n",
       "      <td>...</td>\n",
       "      <td>...</td>\n",
       "      <td>...</td>\n",
       "    </tr>\n",
       "    <tr>\n",
       "      <th>195</th>\n",
       "      <td>38.2</td>\n",
       "      <td>3.7</td>\n",
       "      <td>13.8</td>\n",
       "      <td>7.6</td>\n",
       "    </tr>\n",
       "    <tr>\n",
       "      <th>196</th>\n",
       "      <td>94.2</td>\n",
       "      <td>4.9</td>\n",
       "      <td>8.1</td>\n",
       "      <td>9.7</td>\n",
       "    </tr>\n",
       "    <tr>\n",
       "      <th>197</th>\n",
       "      <td>177.0</td>\n",
       "      <td>9.3</td>\n",
       "      <td>6.4</td>\n",
       "      <td>12.8</td>\n",
       "    </tr>\n",
       "    <tr>\n",
       "      <th>198</th>\n",
       "      <td>283.6</td>\n",
       "      <td>42.0</td>\n",
       "      <td>66.2</td>\n",
       "      <td>25.5</td>\n",
       "    </tr>\n",
       "    <tr>\n",
       "      <th>199</th>\n",
       "      <td>232.1</td>\n",
       "      <td>8.6</td>\n",
       "      <td>8.7</td>\n",
       "      <td>13.4</td>\n",
       "    </tr>\n",
       "  </tbody>\n",
       "</table>\n",
       "<p>200 rows × 4 columns</p>\n",
       "</div>"
      ],
      "text/plain": [
       "        TV  radio  newspaper  sales\n",
       "0    230.1   37.8       69.2   22.1\n",
       "1     44.5   39.3       45.1   10.4\n",
       "2     17.2   45.9       69.3    9.3\n",
       "3    151.5   41.3       58.5   18.5\n",
       "4    180.8   10.8       58.4   12.9\n",
       "..     ...    ...        ...    ...\n",
       "195   38.2    3.7       13.8    7.6\n",
       "196   94.2    4.9        8.1    9.7\n",
       "197  177.0    9.3        6.4   12.8\n",
       "198  283.6   42.0       66.2   25.5\n",
       "199  232.1    8.6        8.7   13.4\n",
       "\n",
       "[200 rows x 4 columns]"
      ]
     },
     "execution_count": 13,
     "metadata": {},
     "output_type": "execute_result"
    }
   ],
   "source": [
    "df"
   ]
  },
  {
   "cell_type": "code",
   "execution_count": 14,
   "id": "febf07e1",
   "metadata": {},
   "outputs": [],
   "source": [
    "pd.set_option('display.max_rows', 200)"
   ]
  },
  {
   "cell_type": "markdown",
   "id": "7bf069ee",
   "metadata": {},
   "source": [
    " * The above command will help us to read all the rows."
   ]
  },
  {
   "cell_type": "code",
   "execution_count": 16,
   "id": "51af6dbf",
   "metadata": {},
   "outputs": [
    {
     "data": {
      "text/plain": [
       "(200, 4)"
      ]
     },
     "execution_count": 16,
     "metadata": {},
     "output_type": "execute_result"
    }
   ],
   "source": [
    "df.shape"
   ]
  },
  {
   "cell_type": "code",
   "execution_count": 17,
   "id": "12cac4f1",
   "metadata": {},
   "outputs": [
    {
     "data": {
      "text/html": [
       "<div>\n",
       "<style scoped>\n",
       "    .dataframe tbody tr th:only-of-type {\n",
       "        vertical-align: middle;\n",
       "    }\n",
       "\n",
       "    .dataframe tbody tr th {\n",
       "        vertical-align: top;\n",
       "    }\n",
       "\n",
       "    .dataframe thead th {\n",
       "        text-align: right;\n",
       "    }\n",
       "</style>\n",
       "<table border=\"1\" class=\"dataframe\">\n",
       "  <thead>\n",
       "    <tr style=\"text-align: right;\">\n",
       "      <th></th>\n",
       "      <th>TV</th>\n",
       "      <th>radio</th>\n",
       "      <th>newspaper</th>\n",
       "      <th>sales</th>\n",
       "    </tr>\n",
       "  </thead>\n",
       "  <tbody>\n",
       "    <tr>\n",
       "      <th>0</th>\n",
       "      <td>230.1</td>\n",
       "      <td>37.8</td>\n",
       "      <td>69.2</td>\n",
       "      <td>22.1</td>\n",
       "    </tr>\n",
       "    <tr>\n",
       "      <th>1</th>\n",
       "      <td>44.5</td>\n",
       "      <td>39.3</td>\n",
       "      <td>45.1</td>\n",
       "      <td>10.4</td>\n",
       "    </tr>\n",
       "    <tr>\n",
       "      <th>2</th>\n",
       "      <td>17.2</td>\n",
       "      <td>45.9</td>\n",
       "      <td>69.3</td>\n",
       "      <td>9.3</td>\n",
       "    </tr>\n",
       "    <tr>\n",
       "      <th>3</th>\n",
       "      <td>151.5</td>\n",
       "      <td>41.3</td>\n",
       "      <td>58.5</td>\n",
       "      <td>18.5</td>\n",
       "    </tr>\n",
       "    <tr>\n",
       "      <th>4</th>\n",
       "      <td>180.8</td>\n",
       "      <td>10.8</td>\n",
       "      <td>58.4</td>\n",
       "      <td>12.9</td>\n",
       "    </tr>\n",
       "  </tbody>\n",
       "</table>\n",
       "</div>"
      ],
      "text/plain": [
       "      TV  radio  newspaper  sales\n",
       "0  230.1   37.8       69.2   22.1\n",
       "1   44.5   39.3       45.1   10.4\n",
       "2   17.2   45.9       69.3    9.3\n",
       "3  151.5   41.3       58.5   18.5\n",
       "4  180.8   10.8       58.4   12.9"
      ]
     },
     "execution_count": 17,
     "metadata": {},
     "output_type": "execute_result"
    }
   ],
   "source": [
    "df.head()"
   ]
  },
  {
   "cell_type": "code",
   "execution_count": 18,
   "id": "fe7b2e31",
   "metadata": {},
   "outputs": [
    {
     "data": {
      "text/html": [
       "<div>\n",
       "<style scoped>\n",
       "    .dataframe tbody tr th:only-of-type {\n",
       "        vertical-align: middle;\n",
       "    }\n",
       "\n",
       "    .dataframe tbody tr th {\n",
       "        vertical-align: top;\n",
       "    }\n",
       "\n",
       "    .dataframe thead th {\n",
       "        text-align: right;\n",
       "    }\n",
       "</style>\n",
       "<table border=\"1\" class=\"dataframe\">\n",
       "  <thead>\n",
       "    <tr style=\"text-align: right;\">\n",
       "      <th></th>\n",
       "      <th>TV</th>\n",
       "      <th>radio</th>\n",
       "      <th>newspaper</th>\n",
       "      <th>sales</th>\n",
       "    </tr>\n",
       "  </thead>\n",
       "  <tbody>\n",
       "    <tr>\n",
       "      <th>195</th>\n",
       "      <td>38.2</td>\n",
       "      <td>3.7</td>\n",
       "      <td>13.8</td>\n",
       "      <td>7.6</td>\n",
       "    </tr>\n",
       "    <tr>\n",
       "      <th>196</th>\n",
       "      <td>94.2</td>\n",
       "      <td>4.9</td>\n",
       "      <td>8.1</td>\n",
       "      <td>9.7</td>\n",
       "    </tr>\n",
       "    <tr>\n",
       "      <th>197</th>\n",
       "      <td>177.0</td>\n",
       "      <td>9.3</td>\n",
       "      <td>6.4</td>\n",
       "      <td>12.8</td>\n",
       "    </tr>\n",
       "    <tr>\n",
       "      <th>198</th>\n",
       "      <td>283.6</td>\n",
       "      <td>42.0</td>\n",
       "      <td>66.2</td>\n",
       "      <td>25.5</td>\n",
       "    </tr>\n",
       "    <tr>\n",
       "      <th>199</th>\n",
       "      <td>232.1</td>\n",
       "      <td>8.6</td>\n",
       "      <td>8.7</td>\n",
       "      <td>13.4</td>\n",
       "    </tr>\n",
       "  </tbody>\n",
       "</table>\n",
       "</div>"
      ],
      "text/plain": [
       "        TV  radio  newspaper  sales\n",
       "195   38.2    3.7       13.8    7.6\n",
       "196   94.2    4.9        8.1    9.7\n",
       "197  177.0    9.3        6.4   12.8\n",
       "198  283.6   42.0       66.2   25.5\n",
       "199  232.1    8.6        8.7   13.4"
      ]
     },
     "execution_count": 18,
     "metadata": {},
     "output_type": "execute_result"
    }
   ],
   "source": [
    "df.tail()"
   ]
  },
  {
   "cell_type": "code",
   "execution_count": 19,
   "id": "5318ba94",
   "metadata": {},
   "outputs": [
    {
     "name": "stdout",
     "output_type": "stream",
     "text": [
      "<class 'pandas.core.frame.DataFrame'>\n",
      "RangeIndex: 200 entries, 0 to 199\n",
      "Data columns (total 4 columns):\n",
      " #   Column     Non-Null Count  Dtype  \n",
      "---  ------     --------------  -----  \n",
      " 0   TV         200 non-null    float64\n",
      " 1   radio      200 non-null    float64\n",
      " 2   newspaper  200 non-null    float64\n",
      " 3   sales      200 non-null    float64\n",
      "dtypes: float64(4)\n",
      "memory usage: 6.4 KB\n"
     ]
    }
   ],
   "source": [
    "df.info()"
   ]
  },
  {
   "cell_type": "code",
   "execution_count": 20,
   "id": "028ea60a",
   "metadata": {},
   "outputs": [
    {
     "data": {
      "text/plain": [
       "TV           0\n",
       "radio        0\n",
       "newspaper    0\n",
       "sales        0\n",
       "dtype: int64"
      ]
     },
     "execution_count": 20,
     "metadata": {},
     "output_type": "execute_result"
    }
   ],
   "source": [
    "df.isnull().sum()"
   ]
  },
  {
   "cell_type": "code",
   "execution_count": 21,
   "id": "74fc2dd7",
   "metadata": {},
   "outputs": [
    {
     "data": {
      "text/html": [
       "<div>\n",
       "<style scoped>\n",
       "    .dataframe tbody tr th:only-of-type {\n",
       "        vertical-align: middle;\n",
       "    }\n",
       "\n",
       "    .dataframe tbody tr th {\n",
       "        vertical-align: top;\n",
       "    }\n",
       "\n",
       "    .dataframe thead th {\n",
       "        text-align: right;\n",
       "    }\n",
       "</style>\n",
       "<table border=\"1\" class=\"dataframe\">\n",
       "  <thead>\n",
       "    <tr style=\"text-align: right;\">\n",
       "      <th></th>\n",
       "      <th>TV</th>\n",
       "      <th>radio</th>\n",
       "      <th>newspaper</th>\n",
       "      <th>sales</th>\n",
       "    </tr>\n",
       "  </thead>\n",
       "  <tbody>\n",
       "    <tr>\n",
       "      <th>count</th>\n",
       "      <td>200.000000</td>\n",
       "      <td>200.000000</td>\n",
       "      <td>200.000000</td>\n",
       "      <td>200.000000</td>\n",
       "    </tr>\n",
       "    <tr>\n",
       "      <th>mean</th>\n",
       "      <td>147.042500</td>\n",
       "      <td>23.264000</td>\n",
       "      <td>30.554000</td>\n",
       "      <td>14.022500</td>\n",
       "    </tr>\n",
       "    <tr>\n",
       "      <th>std</th>\n",
       "      <td>85.854236</td>\n",
       "      <td>14.846809</td>\n",
       "      <td>21.778621</td>\n",
       "      <td>5.217457</td>\n",
       "    </tr>\n",
       "    <tr>\n",
       "      <th>min</th>\n",
       "      <td>0.700000</td>\n",
       "      <td>0.000000</td>\n",
       "      <td>0.300000</td>\n",
       "      <td>1.600000</td>\n",
       "    </tr>\n",
       "    <tr>\n",
       "      <th>25%</th>\n",
       "      <td>74.375000</td>\n",
       "      <td>9.975000</td>\n",
       "      <td>12.750000</td>\n",
       "      <td>10.375000</td>\n",
       "    </tr>\n",
       "    <tr>\n",
       "      <th>50%</th>\n",
       "      <td>149.750000</td>\n",
       "      <td>22.900000</td>\n",
       "      <td>25.750000</td>\n",
       "      <td>12.900000</td>\n",
       "    </tr>\n",
       "    <tr>\n",
       "      <th>75%</th>\n",
       "      <td>218.825000</td>\n",
       "      <td>36.525000</td>\n",
       "      <td>45.100000</td>\n",
       "      <td>17.400000</td>\n",
       "    </tr>\n",
       "    <tr>\n",
       "      <th>max</th>\n",
       "      <td>296.400000</td>\n",
       "      <td>49.600000</td>\n",
       "      <td>114.000000</td>\n",
       "      <td>27.000000</td>\n",
       "    </tr>\n",
       "  </tbody>\n",
       "</table>\n",
       "</div>"
      ],
      "text/plain": [
       "               TV       radio   newspaper       sales\n",
       "count  200.000000  200.000000  200.000000  200.000000\n",
       "mean   147.042500   23.264000   30.554000   14.022500\n",
       "std     85.854236   14.846809   21.778621    5.217457\n",
       "min      0.700000    0.000000    0.300000    1.600000\n",
       "25%     74.375000    9.975000   12.750000   10.375000\n",
       "50%    149.750000   22.900000   25.750000   12.900000\n",
       "75%    218.825000   36.525000   45.100000   17.400000\n",
       "max    296.400000   49.600000  114.000000   27.000000"
      ]
     },
     "execution_count": 21,
     "metadata": {},
     "output_type": "execute_result"
    }
   ],
   "source": [
    "df.describe()"
   ]
  },
  {
   "cell_type": "code",
   "execution_count": 22,
   "id": "58a634ca",
   "metadata": {},
   "outputs": [
    {
     "data": {
      "text/plain": [
       "TV           0\n",
       "radio        1\n",
       "newspaper    0\n",
       "sales        0\n",
       "dtype: int64"
      ]
     },
     "execution_count": 22,
     "metadata": {},
     "output_type": "execute_result"
    }
   ],
   "source": [
    "(df == 0).sum(axis=0)"
   ]
  },
  {
   "cell_type": "markdown",
   "id": "4791d2cd",
   "metadata": {},
   "source": [
    "* There is only 1 value of 0 in the dataset. It can be ignored."
   ]
  },
  {
   "cell_type": "markdown",
   "id": "54bc4f59",
   "metadata": {},
   "source": [
    "# EDA"
   ]
  },
  {
   "cell_type": "markdown",
   "id": "f5211456",
   "metadata": {},
   "source": [
    "# Lets visialize the presence of outliers throgh boxplot."
   ]
  },
  {
   "cell_type": "code",
   "execution_count": 24,
   "id": "33d00bbe",
   "metadata": {},
   "outputs": [
    {
     "data": {
      "image/png": "[encoded data removed]",
      "text/plain": [
       "<Figure size 432x288 with 1 Axes>"
      ]
     },
     "metadata": {
      "needs_background": "light"
     },
     "output_type": "display_data"
    },
    {
     "data": {
      "image/png": "[encoded data removed]",
      "text/plain": [
       "<Figure size 432x288 with 1 Axes>"
      ]
     },
     "metadata": {
      "needs_background": "light"
     },
     "output_type": "display_data"
    },
    {
     "data": {
      "image/png": "[encoded data removed]",
      "text/plain": [
       "<Figure size 432x288 with 1 Axes>"
      ]
     },
     "metadata": {
      "needs_background": "light"
     },
     "output_type": "display_data"
    }
   ],
   "source": [
    "columns = ['TV','radio','newspaper']\n",
    "for i in columns:\n",
    "    sns.boxplot(df[i])\n",
    "    plt.show()"
   ]
  },
  {
   "cell_type": "markdown",
   "id": "031df857",
   "metadata": {},
   "source": [
    "# There are minor outliers present in newspaper. We have to treat it before model fitting"
   ]
  },
  {
   "cell_type": "markdown",
   "id": "c7e410b7",
   "metadata": {},
   "source": [
    "# Lets check the relationship of all the features with each other using pairplot`"
   ]
  },
  {
   "cell_type": "code",
   "execution_count": 25,
   "id": "8f5bf310",
   "metadata": {},
   "outputs": [
    {
     "data": {
      "text/plain": [
       "<seaborn.axisgrid.PairGrid at 0x1ccb8fe54f0>"
      ]
     },
     "execution_count": 25,
     "metadata": {},
     "output_type": "execute_result"
    },
    {
     "data": {
      "image/png": "[encoded data removed]",
      "text/plain": [
       "<Figure size 720x720 with 20 Axes>"
      ]
     },
     "metadata": {
      "needs_background": "light"
     },
     "output_type": "display_data"
    }
   ],
   "source": [
    "sns.pairplot(df)"
   ]
  },
  {
   "cell_type": "markdown",
   "id": "c7283719",
   "metadata": {},
   "source": [
    "* TV has good linear relationship with Sales followed by Radio."
   ]
  },
  {
   "cell_type": "code",
   "execution_count": 26,
   "id": "50ddb817",
   "metadata": {},
   "outputs": [
    {
     "data": {
      "image/png": "[encoded data removed]",
      "text/plain": [
       "<Figure size 864x576 with 4 Axes>"
      ]
     },
     "metadata": {
      "needs_background": "light"
     },
     "output_type": "display_data"
    }
   ],
   "source": [
    "df.hist( bins = 12, figsize = (12,8))\n",
    "plt.show()\n"
   ]
  },
  {
   "cell_type": "markdown",
   "id": "1d59fc81",
   "metadata": {},
   "source": [
    " * Spending is more on TV and Radio and less on Newspaper"
   ]
  },
  {
   "cell_type": "code",
   "execution_count": 28,
   "id": "02e851e6",
   "metadata": {},
   "outputs": [
    {
     "data": {
      "image/png": "[encoded data removed]",
      "text/plain": [
       "<Figure size 432x288 with 1 Axes>"
      ]
     },
     "metadata": {
      "needs_background": "light"
     },
     "output_type": "display_data"
    },
    {
     "data": {
      "image/png": "[encoded data removed]",
      "text/plain": [
       "<Figure size 432x288 with 1 Axes>"
      ]
     },
     "metadata": {
      "needs_background": "light"
     },
     "output_type": "display_data"
    },
    {
     "data": {
      "image/png": "[encoded data removed]",
      "text/plain": [
       "<Figure size 432x288 with 1 Axes>"
      ]
     },
     "metadata": {
      "needs_background": "light"
     },
     "output_type": "display_data"
    }
   ],
   "source": [
    "for i in columns:\n",
    "    plt.scatter(x=df[i], y=df['sales'], c='black')\n",
    "    plt.show()"
   ]
  },
  {
   "cell_type": "code",
   "execution_count": 39,
   "id": "7fbc79d0",
   "metadata": {},
   "outputs": [
    {
     "data": {
      "text/plain": [
       "<AxesSubplot:>"
      ]
     },
     "execution_count": 39,
     "metadata": {},
     "output_type": "execute_result"
    },
    {
     "data": {
      "image/png": "[encoded data removed]",
      "text/plain": [
       "<Figure size 432x288 with 2 Axes>"
      ]
     },
     "metadata": {
      "needs_background": "light"
     },
     "output_type": "display_data"
    }
   ],
   "source": [
    "corr = df.corr()\n",
    "sns.heatmap(corr,annot=True,cmap='Blues')"
   ]
  },
  {
   "cell_type": "markdown",
   "id": "db3bdacc",
   "metadata": {},
   "source": [
    "* As confirmed by other visualiztion, TV is the most co related with sales.\n",
    "\n",
    "* No other features are corelated with each other."
   ]
  },
  {
   "cell_type": "markdown",
   "id": "0970f849",
   "metadata": {},
   "source": [
    "# Data Cleaning\n",
    "* Lets check for skewness now."
   ]
  },
  {
   "cell_type": "code",
   "execution_count": 40,
   "id": "e28f45e6",
   "metadata": {},
   "outputs": [
    {
     "data": {
      "text/plain": [
       "TV          -0.069853\n",
       "radio        0.094175\n",
       "newspaper    0.894720\n",
       "sales        0.407571\n",
       "dtype: float64"
      ]
     },
     "execution_count": 40,
     "metadata": {},
     "output_type": "execute_result"
    }
   ],
   "source": [
    "df.skew()"
   ]
  },
  {
   "cell_type": "code",
   "execution_count": 41,
   "id": "c1c90fd5",
   "metadata": {},
   "outputs": [],
   "source": [
    "df['newspaper']=np.sqrt(df['newspaper'])"
   ]
  },
  {
   "cell_type": "code",
   "execution_count": 42,
   "id": "b627f62a",
   "metadata": {},
   "outputs": [
    {
     "data": {
      "text/plain": [
       "TV          -0.069853\n",
       "radio        0.094175\n",
       "newspaper    0.062388\n",
       "sales        0.407571\n",
       "dtype: float64"
      ]
     },
     "execution_count": 42,
     "metadata": {},
     "output_type": "execute_result"
    }
   ],
   "source": [
    "df.skew()"
   ]
  },
  {
   "cell_type": "code",
   "execution_count": 43,
   "id": "c8518794",
   "metadata": {},
   "outputs": [
    {
     "data": {
      "image/png": "[encoded data removed]",
      "text/plain": [
       "<Figure size 432x288 with 1 Axes>"
      ]
     },
     "metadata": {
      "needs_background": "light"
     },
     "output_type": "display_data"
    },
    {
     "data": {
      "image/png": "[encoded data removed]",
      "text/plain": [
       "<Figure size 432x288 with 1 Axes>"
      ]
     },
     "metadata": {
      "needs_background": "light"
     },
     "output_type": "display_data"
    },
    {
     "data": {
      "image/png": "[encoded data removed]",
      "text/plain": [
       "<Figure size 432x288 with 1 Axes>"
      ]
     },
     "metadata": {
      "needs_background": "light"
     },
     "output_type": "display_data"
    }
   ],
   "source": [
    "for i in columns:\n",
    "    sns.distplot(df[i])\n",
    "    plt.show()"
   ]
  },
  {
   "cell_type": "markdown",
   "id": "d152a2cc",
   "metadata": {},
   "source": [
    " * All our input features are normally distributed\n",
    "\n",
    "* Splitting our data into input(x) and output(y) variable"
   ]
  },
  {
   "cell_type": "code",
   "execution_count": 44,
   "id": "80fe1c14",
   "metadata": {},
   "outputs": [],
   "source": [
    "x=df.drop(columns='sales')\n",
    "y=df['sales']"
   ]
  },
  {
   "cell_type": "markdown",
   "id": "3910a26a",
   "metadata": {},
   "source": [
    "* Now we will standardize our data.\n",
    "\n",
    "* We wil be using StandardScaler for the same."
   ]
  },
  {
   "cell_type": "code",
   "execution_count": 47,
   "id": "f859a8be",
   "metadata": {},
   "outputs": [],
   "source": [
    "sc=StandardScaler()\n",
    "sc_x=sc.fit_transform(x)"
   ]
  },
  {
   "cell_type": "markdown",
   "id": "a41e4e8e",
   "metadata": {},
   "source": [
    "* We have fit the data to sc_x"
   ]
  },
  {
   "cell_type": "code",
   "execution_count": 49,
   "id": "2b667c51",
   "metadata": {},
   "outputs": [],
   "source": [
    "x=sc_x"
   ]
  },
  {
   "cell_type": "markdown",
   "id": "6b93f352",
   "metadata": {},
   "source": [
    " * x is assign to sc_x"
   ]
  },
  {
   "cell_type": "code",
   "execution_count": 50,
   "id": "50ddb25d",
   "metadata": {},
   "outputs": [
    {
     "data": {
      "text/plain": [
       "array([[ 9.69852266e-01,  9.81522472e-01,  1.56309461e+00],\n",
       "       [-1.19737623e+00,  1.08280781e+00,  7.74855194e-01],\n",
       "       [-1.51615499e+00,  1.52846331e+00,  1.56604912e+00],\n",
       "       [ 5.20496822e-02,  1.21785493e+00,  1.23357596e+00],\n",
       "       [ 3.94182198e-01, -8.41613655e-01,  1.23036007e+00],\n",
       "       [-1.61540845e+00,  1.73103399e+00,  1.73106889e+00],\n",
       "       [-1.04557682e+00,  6.43904671e-01, -1.43678801e-01],\n",
       "       [-3.13436589e-01, -2.47406325e-01, -8.52652825e-01],\n",
       "       [-1.61657614e+00, -1.42906863e+00, -2.03568892e+00],\n",
       "       [ 6.16042873e-01, -1.39530685e+00, -2.63332869e-01],\n",
       "       [-9.45155670e-01, -1.17923146e+00, -1.08436840e-01],\n",
       "       [ 7.90028350e-01,  4.96973404e-02, -1.54396138e+00],\n",
       "       [-1.43908760e+00,  7.99208859e-01,  1.46436938e+00],\n",
       "       [-5.78501712e-01, -1.05768905e+00, -1.20797302e+00],\n",
       "       [ 6.66253447e-01,  6.50657027e-01,  8.07641928e-01],\n",
       "       [ 5.64664612e-01,  1.65000572e+00,  1.04903522e+00],\n",
       "       [-9.25304978e-01,  9.00494200e-01,  2.72279688e+00],\n",
       "       [ 1.56887609e+00,  1.10306488e+00,  1.14575858e+00],\n",
       "       [-9.08957349e-01, -1.86635121e-01, -4.23879865e-01],\n",
       "       [ 3.00679600e-03,  4.29449843e-02, -3.78392733e-01],\n",
       "       [ 8.33232798e-01,  2.99534513e-01,  1.06589741e+00],\n",
       "       [ 1.05509347e+00, -1.22649795e+00, -1.43678801e-01],\n",
       "       [-1.56286250e+00, -4.97243498e-01,  9.35686184e-01],\n",
       "       [ 9.48833887e-01, -4.29719938e-01, -1.04630767e-02],\n",
       "       [-9.89527805e-01, -7.20071247e-01, -4.23879865e-01],\n",
       "       [ 1.35285385e+00, -1.33453565e+00, -3.56006466e-01],\n",
       "       [-4.83714657e-02,  4.07572210e-01, -7.81956865e-01],\n",
       "       [ 1.08662104e+00, -4.43224650e-01, -1.74306253e-01],\n",
       "       [ 1.18820988e+00,  2.59020377e-01, -1.74306253e-01],\n",
       "       [-8.92609721e-01, -4.90491142e-01,  6.13487141e-01],\n",
       "       [ 1.70316018e+00,  3.40048650e-01,  7.04546681e-01],\n",
       "       [-3.98677796e-01, -3.95958157e-01,  5.27632526e-01],\n",
       "       [-5.82004775e-01, -1.46958277e+00,  1.65886160e-01],\n",
       "       [ 1.38438142e+00, -2.20396901e-01, -2.25808619e+00],\n",
       "       [-5.99520091e-01, -1.47633512e+00, -1.18977295e+00],\n",
       "       [ 1.67747105e+00, -1.29402151e+00, -1.09379666e+00],\n",
       "       [ 1.39956136e+00,  1.38666383e+00, -1.42788026e+00],\n",
       "       [-8.44734522e-01,  1.76479577e+00,  7.96748948e-01],\n",
       "       [-1.21372386e+00,  2.32010953e-01,  3.85835748e-01],\n",
       "       [ 9.45330823e-01,  9.74770116e-01,  2.54214524e-01],\n",
       "       [ 6.47570443e-01, -6.50927121e-02,  2.36774660e-01],\n",
       "       [ 3.49810063e-01,  6.84418807e-01,  5.31587283e-01],\n",
       "       [ 1.71133400e+00,  2.99534513e-01, -1.86769474e+00],\n",
       "       [ 6.98948705e-01, -1.00367020e+00, -8.74648181e-04],\n",
       "       [-1.42390765e+00,  1.64487393e-01,  7.08285217e-01],\n",
       "       [ 3.27623995e-01, -5.15880000e-02,  2.32397474e-01],\n",
       "       [-6.69581357e-01, -9.02384859e-01,  4.10629831e-01],\n",
       "       [ 1.08428567e+00,  1.23135965e+00, -4.12416366e-01],\n",
       "       [ 9.35989321e-01, -5.03995854e-01,  9.46143488e-01],\n",
       "       [-9.35814168e-01, -7.80842451e-01,  4.55550447e-01],\n",
       "       [ 6.16042873e-01, -1.36154507e+00,  3.65011663e-01],\n",
       "       [-5.44638766e-01, -9.22641928e-01, -1.59442906e+00],\n",
       "       [ 8.09879042e-01,  1.24486436e+00,  5.66952663e-01],\n",
       "       [ 4.15200577e-01,  1.54872038e+00,  1.23999953e+00],\n",
       "       [ 1.35051848e+00,  3.73810430e-01, -5.66662552e-01],\n",
       "       [ 6.05533683e-01,  1.76479577e+00,  1.28148863e+00],\n",
       "       [-1.63175608e+00,  3.26543937e-01,  6.36497731e-01],\n",
       "       [-1.26606546e-01, -2.74415749e-01, -5.23966170e-01],\n",
       "       [ 7.44488528e-01,  1.77830048e+00,  4.91806608e-01],\n",
       "       [ 7.43320840e-01,  4.21076922e-01, -1.02784902e+00],\n",
       "       [-1.09228433e+00, -1.43582099e+00, -2.52678300e-01],\n",
       "       [ 1.33417085e+00,  1.31238792e+00,  1.10937324e+00],\n",
       "       [ 1.07727954e+00, -5.24252922e-01,  4.18304911e-02],\n",
       "       [-5.17781948e-01,  4.27829278e-01, -1.10225467e+00],\n",
       "       [-1.86158622e-01,  1.31914027e+00,  1.16047828e-01],\n",
       "       [-9.11292725e-01, -9.42898996e-01, -2.06092275e+00],\n",
       "       [-1.34917564e+00,  9.02114765e-02, -1.79806665e+00],\n",
       "       [-9.04082253e-02, -5.91776482e-01, -9.56964653e-01],\n",
       "       [ 1.05509347e+00,  2.86029801e-01, -8.96540728e-01],\n",
       "       [ 8.14549794e-01,  1.39341619e+00,  3.71205936e-02],\n",
       "       [ 6.07869059e-01,  4.95352838e-01,  5.31587283e-01],\n",
       "       [-4.34876116e-01, -6.05281194e-01,  2.41144925e-01],\n",
       "       [-1.40405696e+00,  6.57409383e-01, -3.67170601e-01],\n",
       "       [-2.06009314e-01, -1.18598381e+00,  2.23622209e-01],\n",
       "       [ 7.74848409e-01,  9.02114765e-02, -7.47661651e-01],\n",
       "       [-1.51965805e+00,  1.37991148e+00,  2.12194471e+00],\n",
       "       [-1.39588315e+00, -1.46283041e+00, -2.90191276e-01],\n",
       "       [-3.09933525e-01,  3.53553362e-01, -6.74445131e-01],\n",
       "       [-1.65394214e+00,  4.48086346e-01, -1.01980839e+00],\n",
       "       [-3.62479475e-01, -1.05093669e+00, -1.64053001e-01],\n",
       "       [-8.24883830e-01,  2.32010953e-01, -2.05337635e-01],\n",
       "       [ 1.08311798e+00, -1.29402151e+00,  4.59600641e-01],\n",
       "       [-8.37728396e-01, -2.00139833e-01,  2.75861785e-01],\n",
       "       [-9.18298852e-01,  1.43393033e+00,  4.06512034e-01],\n",
       "       [ 7.76016097e-01,  1.33264499e+00,  3.31377634e-01],\n",
       "       [ 5.38975481e-01, -3.28434597e-01,  1.45830743e+00],\n",
       "       [-8.26051518e-01,  2.86029801e-01, -5.60506324e-01],\n",
       "       [-4.24366926e-01,  1.17058844e+00,  1.38174010e+00],\n",
       "       [-6.85928986e-01,  1.50982681e-01,  1.68540016e+00],\n",
       "       [-4.34876116e-01,  1.65675807e+00,  9.97964748e-01],\n",
       "       [-1.48792614e-01, -1.24000266e+00, -1.02784902e+00],\n",
       "       [-1.38303858e+00, -1.46958277e+00,  2.97343158e-01],\n",
       "       [ 8.25058983e-01,  6.91171163e-01,  1.24961438e+00],\n",
       "       [ 1.21273132e+00,  8.93741844e-01,  1.65371357e+00],\n",
       "       [-4.62900623e-01, -6.25538262e-01, -9.03970725e-01],\n",
       "       [ 1.89836839e-01,  5.62876398e-01,  1.04903522e+00],\n",
       "       [ 5.90353742e-01, -1.33453565e+00, -1.33301442e+00],\n",
       "       [ 4.42057396e-01, -1.52873340e-01, -2.21009887e-01],\n",
       "       [ 1.66579418e+00,  1.28537849e+00,  9.91099345e-01],\n",
       "       [-1.38283424e-01,  1.24486436e+00,  8.04014892e-01],\n",
       "       [ 8.79940308e-01, -1.28051680e+00,  9.42661222e-01],\n",
       "       [ 1.74402926e+00,  8.80237132e-01,  2.41193703e+00],\n",
       "       [ 1.55486384e+00, -8.88880147e-01, -2.52678300e-01],\n",
       "       [ 4.77088029e-01, -4.09462869e-01, -4.46996354e-01],\n",
       "       [ 1.06443498e+00,  7.45190011e-01, -1.39537466e+00],\n",
       "       [-1.06755854e-01,  1.56222509e+00,  1.24961438e+00],\n",
       "       [-1.42507534e+00, -8.28108943e-01,  1.52385811e-01],\n",
       "       [-6.61407543e-01, -1.55061104e+00, -1.58943020e-01],\n",
       "       [-1.56403019e+00, -1.54385868e+00, -3.94500707e-02],\n",
       "       [ 1.26527727e+00,  2.45515665e-01, -1.37421317e+00],\n",
       "       [ 9.19641692e-01, -1.01717491e+00,  1.16872641e+00],\n",
       "       [ 1.10530405e+00,  9.95027184e-01, -1.58943020e-01],\n",
       "       [ 3.34630122e-01, -5.31005278e-01, -1.76563543e+00],\n",
       "       [ 7.30476274e-01, -1.79882765e-01, -9.18933677e-01],\n",
       "       [-8.03865450e-01,  1.58923451e+00,  3.60828829e-01],\n",
       "       [-8.40063771e-01,  7.92456503e-01,  1.04226804e+00],\n",
       "       [-9.15759131e-02, -6.05281194e-01, -3.94500707e-02],\n",
       "       [-8.24883830e-01, -1.51684926e+00, -6.35702865e-01],\n",
       "       [-2.49213762e-01,  9.20751268e-01,  1.84868232e+00],\n",
       "       [-1.49046586e+00, -4.90491142e-01, -2.05337635e-01],\n",
       "       [-6.70544700e-02,  2.38763309e-01,  8.14884191e-01],\n",
       "       [-1.49747198e+00, -1.05606848e-01,  9.63502716e-01],\n",
       "       [ 8.98623313e-01, -1.40881156e+00, -5.85248317e-01],\n",
       "       [-2.79573643e-01,  7.65447079e-01, -7.95865131e-01],\n",
       "       [ 9.62846140e-01,  6.10142891e-01,  1.70829607e+00],\n",
       "       [-6.98773552e-01, -7.74090095e-01, -2.49146030e-02],\n",
       "       [-1.62591764e+00,  1.05579839e+00,  9.70422285e-01],\n",
       "       [-7.80511695e-01, -1.57086811e+00, -1.03593300e+00],\n",
       "       [ 8.55418865e-01,  1.73778635e+00, -1.64778750e+00],\n",
       "       [-1.02105537e+00, -7.60585383e-01,  7.00803816e-01],\n",
       "       [-1.70882347e+00,  1.10306488e+00, -1.07702861e+00],\n",
       "       [ 1.37971067e+00, -1.37504978e+00,  6.97056606e-01],\n",
       "       [-1.61891151e+00,  2.65772733e-01, -1.81483556e+00],\n",
       "       [ 8.49580427e-01,  6.91171163e-01,  7.74855194e-01],\n",
       "       [-1.28612050e+00,  1.03554132e+00,  1.45527300e+00],\n",
       "       [-1.15300409e+00,  1.60273923e+00, -1.09379666e+00],\n",
       "       [-1.41806922e+00,  1.06255074e+00, -1.02784902e+00],\n",
       "       [ 1.47896413e+00,  3.80562786e-01,  1.27195443e+00],\n",
       "       [-1.21489154e+00,  1.77992105e-01, -3.01025360e-01],\n",
       "       [ 4.42057396e-01,  1.39341619e+00, -1.88628219e+00],\n",
       "       [-8.59914463e-01, -4.22967582e-01, -7.61299819e-01],\n",
       "       [ 5.44813920e-01,  8.19465927e-01,  1.74806889e+00],\n",
       "       [ 8.57754241e-01,  6.70914095e-01,  4.99804564e-01],\n",
       "       [-4.95595880e-01, -1.18598381e+00,  3.56639928e-01],\n",
       "       [-5.93681653e-01, -5.71519414e-01,  5.39481500e-01],\n",
       "       [-7.87313476e-02, -1.44257334e+00, -1.05223385e+00],\n",
       "       [ 1.08662104e+00, -1.07794612e+00, -1.07702861e+00],\n",
       "       [ 1.12281936e+00,  1.73778635e+00,  7.45435707e-01],\n",
       "       [-1.27327593e+00,  1.15033137e+00, -8.31134637e-01],\n",
       "       [-1.19504085e+00,  1.71239749e-01, -2.95601744e-01],\n",
       "       [ 1.56070228e+00, -6.32290618e-01,  4.63645352e-01],\n",
       "       [-3.04095087e-01, -1.00367020e+00,  9.04123071e-01],\n",
       "       [ 5.90353742e-01,  2.43084817e-03, -6.74445131e-01],\n",
       "       [ 2.83251860e-01,  1.10981724e+00,  4.91806608e-01],\n",
       "       [ 4.75920341e-01, -1.46120984e-01, -1.01181041e+00],\n",
       "       [-1.66912209e+00, -7.87594807e-01, -1.35343306e+00],\n",
       "       [-6.20538471e-01,  1.36640677e+00,  9.66964214e-01],\n",
       "       [ 3.21989902e-02, -1.48308748e+00, -1.03444101e-01],\n",
       "       [-1.58037782e+00,  9.20751268e-01,  7.78514222e-01],\n",
       "       [-1.79152496e-01, -3.28434597e-01,  3.65011663e-01],\n",
       "       [ 2.97264113e-01, -3.48691665e-01,  1.97126837e-01],\n",
       "       [-7.16288868e-01,  8.46475352e-01,  9.25197207e-01],\n",
       "       [ 4.82926468e-01, -3.48691665e-01, -3.94500707e-02],\n",
       "       [ 1.92172214e-01,  9.13998912e-01, -1.18977295e+00],\n",
       "       [-3.48467222e-01, -5.78271770e-01, -1.38474492e+00],\n",
       "       [ 1.02123053e+00, -1.34128800e+00,  2.00075071e+00],\n",
       "       [-1.50798117e+00,  9.68017760e-01, -2.42073402e-01],\n",
       "       [ 6.97781017e-01, -1.21974559e+00, -3.61581340e-01],\n",
       "       [ 7.98202165e-01,  2.26879163e-02,  1.20453312e+00],\n",
       "       [ 1.60273904e+00, -8.55118367e-01, -1.28343326e+00],\n",
       "       [-1.13315340e+00, -7.87594807e-01, -4.18140328e-01],\n",
       "       [ 2.03849092e-01, -1.59625696e-01,  8.58012435e-01],\n",
       "       [-1.48813048e+00, -2.13644545e-01, -4.99971899e-01],\n",
       "       [ 2.49388915e-01, -1.09145083e+00, -7.68158551e-01],\n",
       "       [ 8.79940308e-01, -1.34128800e+00, -7.47661651e-01],\n",
       "       [ 1.51633014e+00,  1.73103399e+00,  6.51745599e-01],\n",
       "       [ 1.18353913e+00,  4.68343414e-01, -3.11912423e-01],\n",
       "       [ 2.70407294e-01, -1.04418434e+00,  3.89982728e-01],\n",
       "       [ 1.51399477e+00, -1.41556392e+00, -1.33556727e-01],\n",
       "       [ 2.16693657e-01, -8.95632503e-01, -4.64503706e-01],\n",
       "       [ 1.11601758e-01, -1.39530685e+00, -1.11076317e+00],\n",
       "       [ 8.34400486e-01, -1.20624088e+00,  4.65317703e-02],\n",
       "       [-1.06075676e+00, -1.18598381e+00,  1.52385811e-01],\n",
       "       [ 1.64127273e+00,  1.33264499e+00,  1.63923092e+00],\n",
       "       [ 1.24659427e+00, -1.32616272e-01,  1.65886160e-01],\n",
       "       [ 6.76762637e-01,  1.47444446e+00, -3.50445868e-01],\n",
       "       [-8.80728498e-02, -1.42906863e+00,  8.67752879e-03],\n",
       "       [ 5.14454038e-01,  3.67058074e-01, -4.29635106e-01],\n",
       "       [ 1.62258973e+00, -6.32290618e-01, -1.58155966e+00],\n",
       "       [-1.49863967e+00, -7.53833027e-01, -1.48755990e-01],\n",
       "       [-1.25576062e+00,  1.20435022e+00, -1.34317973e+00],\n",
       "       [-8.35393020e-01, -8.41613655e-01, -1.32293490e+00],\n",
       "       [-1.51615499e+00, -1.29402151e+00,  2.36774660e-01],\n",
       "       [ 2.30705910e-01,  1.26512143e+00, -1.59442906e+00],\n",
       "       [ 3.10313024e-02,  8.32970639e-01, -1.32293490e+00],\n",
       "       [-1.27094056e+00, -1.32103093e+00, -7.00729744e-01],\n",
       "       [-6.17035408e-01, -1.24000266e+00, -1.12793536e+00],\n",
       "       [ 3.49810063e-01, -9.42898996e-01, -1.28343326e+00],\n",
       "       [ 1.59456522e+00,  1.26512143e+00,  1.47344507e+00],\n",
       "       [ 9.93206022e-01, -9.90165488e-01, -1.07702861e+00]])"
      ]
     },
     "execution_count": 50,
     "metadata": {},
     "output_type": "execute_result"
    }
   ],
   "source": [
    "x"
   ]
  },
  {
   "cell_type": "markdown",
   "id": "0ce8fa49",
   "metadata": {},
   "source": [
    "# Model Building"
   ]
  },
  {
   "cell_type": "markdown",
   "id": "8f18c880",
   "metadata": {},
   "source": [
    "* We will use Linear regression model to check for the best random state to fit our training and test data`"
   ]
  },
  {
   "cell_type": "code",
   "execution_count": 52,
   "id": "67a48a8b",
   "metadata": {},
   "outputs": [
    {
     "name": "stdout",
     "output_type": "stream",
     "text": [
      "At random state 0,the training accuracy is: 0.9066668117866912\n",
      "At random state 0,the testing accuracy is: 0.8598489884868329\n",
      "\n",
      "\n",
      "At random state 1,the training accuracy is: 0.8960824841182068\n",
      "At random state 1,the testing accuracy is: 0.891819980203109\n",
      "\n",
      "\n",
      "At random state 2,the training accuracy is: 0.915522839623869\n",
      "At random state 2,the testing accuracy is: 0.7546733523075342\n",
      "\n",
      "\n",
      "At random state 3,the training accuracy is: 0.893231872053226\n",
      "At random state 3,the testing accuracy is: 0.9124431849056786\n",
      "\n",
      "\n",
      "At random state 4,the training accuracy is: 0.891222706408866\n",
      "At random state 4,the testing accuracy is: 0.9082554516311409\n",
      "\n",
      "\n",
      "At random state 5,the training accuracy is: 0.895655123210421\n",
      "At random state 5,the testing accuracy is: 0.898557314658452\n",
      "\n",
      "\n",
      "At random state 6,the training accuracy is: 0.8917655782026647\n",
      "At random state 6,the testing accuracy is: 0.9209209716361928\n",
      "\n",
      "\n",
      "At random state 7,the training accuracy is: 0.8929101547219346\n",
      "At random state 7,the testing accuracy is: 0.909523758386436\n",
      "\n",
      "\n",
      "At random state 8,the training accuracy is: 0.9086089157725861\n",
      "At random state 8,the testing accuracy is: 0.8470479164016581\n",
      "\n",
      "\n",
      "At random state 9,the training accuracy is: 0.8897279847045784\n",
      "At random state 9,the testing accuracy is: 0.9258940580724901\n",
      "\n",
      "\n",
      "At random state 10,the training accuracy is: 0.9209128767320754\n",
      "At random state 10,the testing accuracy is: 0.8349474533760167\n",
      "\n",
      "\n",
      "At random state 11,the training accuracy is: 0.9107725738806145\n",
      "At random state 11,the testing accuracy is: 0.8462725411864757\n",
      "\n",
      "\n",
      "At random state 12,the training accuracy is: 0.8912305924555569\n",
      "At random state 12,the testing accuracy is: 0.9135844117362963\n",
      "\n",
      "\n",
      "At random state 13,the training accuracy is: 0.8868466269061752\n",
      "At random state 13,the testing accuracy is: 0.9310154847444645\n",
      "\n",
      "\n",
      "At random state 14,the training accuracy is: 0.9086245652581647\n",
      "At random state 14,the testing accuracy is: 0.8549229453855781\n",
      "\n",
      "\n",
      "At random state 15,the training accuracy is: 0.8936973906664096\n",
      "At random state 15,the testing accuracy is: 0.9060904854365273\n",
      "\n",
      "\n",
      "At random state 16,the training accuracy is: 0.8925777418610522\n",
      "At random state 16,the testing accuracy is: 0.9188628325592408\n",
      "\n",
      "\n",
      "At random state 17,the training accuracy is: 0.9116078026641319\n",
      "At random state 17,the testing accuracy is: 0.8264580299337172\n",
      "\n",
      "\n",
      "At random state 18,the training accuracy is: 0.9055910038835648\n",
      "At random state 18,the testing accuracy is: 0.869739687825844\n",
      "\n",
      "\n",
      "At random state 19,the training accuracy is: 0.8935074963039235\n",
      "At random state 19,the testing accuracy is: 0.9036516245236977\n",
      "\n",
      "\n",
      "At random state 20,the training accuracy is: 0.8941138245621996\n",
      "At random state 20,the testing accuracy is: 0.9026471042250896\n",
      "\n",
      "\n",
      "At random state 21,the training accuracy is: 0.8875858200404122\n",
      "At random state 21,the testing accuracy is: 0.9221538017615295\n",
      "\n",
      "\n",
      "At random state 22,the training accuracy is: 0.8901157457374036\n",
      "At random state 22,the testing accuracy is: 0.9177775383797999\n",
      "\n",
      "\n",
      "At random state 23,the training accuracy is: 0.8921865567067989\n",
      "At random state 23,the testing accuracy is: 0.9101640942475522\n",
      "\n",
      "\n",
      "At random state 24,the training accuracy is: 0.8943318777337896\n",
      "At random state 24,the testing accuracy is: 0.9060803004381353\n",
      "\n",
      "\n",
      "At random state 25,the training accuracy is: 0.9005124395524611\n",
      "At random state 25,the testing accuracy is: 0.8752791187318748\n",
      "\n",
      "\n",
      "At random state 26,the training accuracy is: 0.8998976445187402\n",
      "At random state 26,the testing accuracy is: 0.8753132093325617\n",
      "\n",
      "\n",
      "At random state 27,the training accuracy is: 0.8949190814810106\n",
      "At random state 27,the testing accuracy is: 0.9055998824449135\n",
      "\n",
      "\n",
      "At random state 28,the training accuracy is: 0.89996427533223\n",
      "At random state 28,the testing accuracy is: 0.8824196455375337\n",
      "\n",
      "\n",
      "At random state 29,the training accuracy is: 0.8900149826588872\n",
      "At random state 29,the testing accuracy is: 0.9108876295765262\n",
      "\n",
      "\n",
      "At random state 30,the training accuracy is: 0.8937969320383135\n",
      "At random state 30,the testing accuracy is: 0.9050343592155887\n",
      "\n",
      "\n",
      "At random state 31,the training accuracy is: 0.8861252697103489\n",
      "At random state 31,the testing accuracy is: 0.9271977386741509\n",
      "\n",
      "\n",
      "At random state 32,the training accuracy is: 0.9171949114643194\n",
      "At random state 32,the testing accuracy is: 0.7771059427557685\n",
      "\n",
      "\n",
      "At random state 33,the training accuracy is: 0.8964146628215799\n",
      "At random state 33,the testing accuracy is: 0.8930044507306885\n",
      "\n",
      "\n",
      "At random state 34,the training accuracy is: 0.8970260943706048\n",
      "At random state 34,the testing accuracy is: 0.8925353187772842\n",
      "\n",
      "\n",
      "At random state 35,the training accuracy is: 0.9144920664767004\n",
      "At random state 35,the testing accuracy is: 0.7894798051122913\n",
      "\n",
      "\n",
      "At random state 36,the training accuracy is: 0.8889095214307335\n",
      "At random state 36,the testing accuracy is: 0.9257848295500533\n",
      "\n",
      "\n",
      "At random state 37,the training accuracy is: 0.8996192140426015\n",
      "At random state 37,the testing accuracy is: 0.8839010155965216\n",
      "\n",
      "\n",
      "At random state 38,the training accuracy is: 0.8971768639328902\n",
      "At random state 38,the testing accuracy is: 0.8929096986822089\n",
      "\n",
      "\n",
      "At random state 39,the training accuracy is: 0.8990970438993733\n",
      "At random state 39,the testing accuracy is: 0.8790637020706872\n",
      "\n",
      "\n",
      "At random state 40,the training accuracy is: 0.920052069691562\n",
      "At random state 40,the testing accuracy is: 0.7974460522856558\n",
      "\n",
      "\n",
      "At random state 41,the training accuracy is: 0.9005513088053527\n",
      "At random state 41,the testing accuracy is: 0.8823358557553707\n",
      "\n",
      "\n",
      "At random state 42,the training accuracy is: 0.8957994678890562\n",
      "At random state 42,the testing accuracy is: 0.8994550077374865\n",
      "\n",
      "\n",
      "At random state 43,the training accuracy is: 0.8885286187474122\n",
      "At random state 43,the testing accuracy is: 0.9283082849976607\n",
      "\n",
      "\n",
      "At random state 44,the training accuracy is: 0.9065552263572775\n",
      "At random state 44,the testing accuracy is: 0.8312440966172079\n",
      "\n",
      "\n",
      "At random state 45,the training accuracy is: 0.8958373986048427\n",
      "At random state 45,the testing accuracy is: 0.8952446342971138\n",
      "\n",
      "\n",
      "At random state 46,the training accuracy is: 0.9036473116727639\n",
      "At random state 46,the testing accuracy is: 0.8503626855945617\n",
      "\n",
      "\n",
      "At random state 47,the training accuracy is: 0.8986202462117285\n",
      "At random state 47,the testing accuracy is: 0.8860457971993417\n",
      "\n",
      "\n",
      "At random state 48,the training accuracy is: 0.8903909103100742\n",
      "At random state 48,the testing accuracy is: 0.9195681665636188\n",
      "\n",
      "\n",
      "At random state 49,the training accuracy is: 0.9136449907662345\n",
      "At random state 49,the testing accuracy is: 0.8243486190652193\n",
      "\n",
      "\n",
      "At random state 50,the training accuracy is: 0.9015089023026562\n",
      "At random state 50,the testing accuracy is: 0.8468985417751089\n",
      "\n",
      "\n",
      "At random state 51,the training accuracy is: 0.8937215493440229\n",
      "At random state 51,the testing accuracy is: 0.9064989875542097\n",
      "\n",
      "\n",
      "At random state 52,the training accuracy is: 0.9016643969766603\n",
      "At random state 52,the testing accuracy is: 0.8812272192533462\n",
      "\n",
      "\n",
      "At random state 53,the training accuracy is: 0.8886949184677639\n",
      "At random state 53,the testing accuracy is: 0.9255918882427713\n",
      "\n",
      "\n",
      "At random state 54,the training accuracy is: 0.8918666327216553\n",
      "At random state 54,the testing accuracy is: 0.9180440014274887\n",
      "\n",
      "\n",
      "At random state 55,the training accuracy is: 0.8944211504220754\n",
      "At random state 55,the testing accuracy is: 0.9028992864920641\n",
      "\n",
      "\n",
      "At random state 56,the training accuracy is: 0.8987408198578586\n",
      "At random state 56,the testing accuracy is: 0.8890848187218234\n",
      "\n",
      "\n",
      "At random state 57,the training accuracy is: 0.8824329531509987\n",
      "At random state 57,the testing accuracy is: 0.9410026969280646\n",
      "\n",
      "\n",
      "At random state 58,the training accuracy is: 0.9127267774655059\n",
      "At random state 58,the testing accuracy is: 0.8406030280623411\n",
      "\n",
      "\n",
      "At random state 59,the training accuracy is: 0.8893093284682579\n",
      "At random state 59,the testing accuracy is: 0.9250923919990678\n",
      "\n",
      "\n",
      "At random state 60,the training accuracy is: 0.8921547877260175\n",
      "At random state 60,the testing accuracy is: 0.9103118570348581\n",
      "\n",
      "\n",
      "At random state 61,the training accuracy is: 0.8993985519893624\n",
      "At random state 61,the testing accuracy is: 0.8795856400469493\n",
      "\n",
      "\n",
      "At random state 62,the training accuracy is: 0.9119359173341007\n",
      "At random state 62,the testing accuracy is: 0.8417975926062344\n",
      "\n",
      "\n",
      "At random state 63,the training accuracy is: 0.8949232435435714\n",
      "At random state 63,the testing accuracy is: 0.9028599780274638\n",
      "\n",
      "\n",
      "At random state 64,the training accuracy is: 0.8978010343701358\n",
      "At random state 64,the testing accuracy is: 0.8816001224011267\n",
      "\n",
      "\n",
      "At random state 65,the training accuracy is: 0.8969821082235921\n",
      "At random state 65,the testing accuracy is: 0.8940306450833686\n",
      "\n",
      "\n",
      "At random state 66,the training accuracy is: 0.8985365423661386\n",
      "At random state 66,the testing accuracy is: 0.8898696370926512\n",
      "\n",
      "\n",
      "At random state 67,the training accuracy is: 0.8995803764458269\n",
      "At random state 67,the testing accuracy is: 0.8815678640068303\n",
      "\n",
      "\n",
      "At random state 68,the training accuracy is: 0.8999905830574695\n",
      "At random state 68,the testing accuracy is: 0.8699141310684384\n",
      "\n",
      "\n",
      "At random state 69,the training accuracy is: 0.8872002515174824\n",
      "At random state 69,the testing accuracy is: 0.922772103235143\n",
      "\n",
      "\n",
      "At random state 70,the training accuracy is: 0.8861132574943068\n",
      "At random state 70,the testing accuracy is: 0.9261350538985346\n",
      "\n",
      "\n",
      "At random state 71,the training accuracy is: 0.9162959729708379\n",
      "At random state 71,the testing accuracy is: 0.8241835277073866\n",
      "\n",
      "\n",
      "At random state 72,the training accuracy is: 0.8936278418266997\n",
      "At random state 72,the testing accuracy is: 0.907461151197277\n",
      "\n",
      "\n",
      "At random state 73,the training accuracy is: 0.9078193389176633\n",
      "At random state 73,the testing accuracy is: 0.841015986386136\n",
      "\n",
      "\n",
      "At random state 74,the training accuracy is: 0.8979132433411062\n",
      "At random state 74,the testing accuracy is: 0.8807612513516736\n",
      "\n",
      "\n",
      "At random state 75,the training accuracy is: 0.894230577656803\n",
      "At random state 75,the testing accuracy is: 0.9076906160304712\n",
      "\n",
      "\n",
      "At random state 76,the training accuracy is: 0.9094571277597164\n",
      "At random state 76,the testing accuracy is: 0.7504389232301256\n",
      "\n",
      "\n",
      "At random state 77,the training accuracy is: 0.8860289935366851\n",
      "At random state 77,the testing accuracy is: 0.937536151301751\n",
      "\n",
      "\n",
      "At random state 78,the training accuracy is: 0.8957230884994425\n",
      "At random state 78,the testing accuracy is: 0.9024731977951858\n",
      "\n",
      "\n",
      "At random state 79,the training accuracy is: 0.89177361444977\n",
      "At random state 79,the testing accuracy is: 0.9043206901617324\n",
      "\n",
      "\n",
      "At random state 80,the training accuracy is: 0.9161743865072893\n",
      "At random state 80,the testing accuracy is: 0.8069040911814556\n",
      "\n",
      "\n",
      "At random state 81,the training accuracy is: 0.9033542529670836\n",
      "At random state 81,the testing accuracy is: 0.8618922124186248\n",
      "\n",
      "\n",
      "At random state 82,the training accuracy is: 0.9151826682663138\n",
      "At random state 82,the testing accuracy is: 0.802287674533225\n",
      "\n",
      "\n",
      "At random state 83,the training accuracy is: 0.8838674668785725\n",
      "At random state 83,the testing accuracy is: 0.9376724410703788\n",
      "\n",
      "\n",
      "At random state 84,the training accuracy is: 0.8949290564962604\n",
      "At random state 84,the testing accuracy is: 0.9016731927722328\n",
      "\n",
      "\n",
      "At random state 85,the training accuracy is: 0.9084438704455232\n",
      "At random state 85,the testing accuracy is: 0.8445031394906569\n",
      "\n",
      "\n",
      "At random state 86,the training accuracy is: 0.8940553244387444\n",
      "At random state 86,the testing accuracy is: 0.9105462251615539\n",
      "\n",
      "\n",
      "At random state 87,the training accuracy is: 0.9117183184640643\n",
      "At random state 87,the testing accuracy is: 0.7639905573639244\n",
      "\n",
      "\n",
      "At random state 88,the training accuracy is: 0.9093729826111433\n",
      "At random state 88,the testing accuracy is: 0.8398019358955982\n",
      "\n",
      "\n",
      "At random state 89,the training accuracy is: 0.9002296015039586\n",
      "At random state 89,the testing accuracy is: 0.8754810865573228\n",
      "\n",
      "\n",
      "At random state 90,the training accuracy is: 0.9031431295919099\n",
      "At random state 90,the testing accuracy is: 0.8513388057491913\n",
      "\n",
      "\n",
      "At random state 91,the training accuracy is: 0.8873825553974763\n",
      "At random state 91,the testing accuracy is: 0.9042951567918209\n",
      "\n",
      "\n",
      "At random state 92,the training accuracy is: 0.8793003799750866\n",
      "At random state 92,the testing accuracy is: 0.9514095674628553\n",
      "\n",
      "\n",
      "At random state 93,the training accuracy is: 0.8928148260078911\n",
      "At random state 93,the testing accuracy is: 0.9122326805870445\n",
      "\n",
      "\n",
      "At random state 94,the training accuracy is: 0.90820129515793\n",
      "At random state 94,the testing accuracy is: 0.8568177778775757\n",
      "\n",
      "\n",
      "At random state 95,the training accuracy is: 0.893685200481859\n",
      "At random state 95,the testing accuracy is: 0.8942403670869862\n",
      "\n",
      "\n",
      "At random state 96,the training accuracy is: 0.903625679020793\n",
      "At random state 96,the testing accuracy is: 0.8597854663484097\n",
      "\n",
      "\n",
      "At random state 97,the training accuracy is: 0.8904663383166027\n",
      "At random state 97,the testing accuracy is: 0.9106860534061962\n",
      "\n",
      "\n",
      "At random state 98,the training accuracy is: 0.8819331391832891\n",
      "At random state 98,the testing accuracy is: 0.9400200196450395\n",
      "\n",
      "\n",
      "At random state 99,the training accuracy is: 0.8908046377834327\n",
      "At random state 99,the testing accuracy is: 0.9189321197091166\n",
      "\n",
      "\n"
     ]
    }
   ],
   "source": [
    "for i in range(0,100):\n",
    "    x_train,x_test,y_train,y_test=train_test_split(x,y,test_size=0.20,random_state=i)\n",
    "    lr=LinearRegression()\n",
    "    lr.fit(x_train,y_train)\n",
    "    pred_train=lr.predict(x_train)\n",
    "    pred_test=lr.predict(x_test)\n",
    "    print(f'At random state {i},the training accuracy is: {r2_score(y_train,pred_train)}')\n",
    "    print(f'At random state {i},the testing accuracy is: {r2_score(y_test,pred_test)}')\n",
    "    print('\\n')"
   ]
  },
  {
   "cell_type": "markdown",
   "id": "f2c6d331",
   "metadata": {},
   "source": [
    "* We will now split the data with the random_state 42 as that has given us the best accuracy on training and test data."
   ]
  },
  {
   "cell_type": "code",
   "execution_count": 53,
   "id": "4e72d114",
   "metadata": {},
   "outputs": [],
   "source": [
    "x_train,x_test,y_train,y_test=train_test_split(x,y,test_size=.20,random_state=42)"
   ]
  },
  {
   "cell_type": "markdown",
   "id": "9f36c3d7",
   "metadata": {},
   "source": [
    "* Passing the model again"
   ]
  },
  {
   "cell_type": "code",
   "execution_count": 54,
   "id": "f354dedb",
   "metadata": {},
   "outputs": [
    {
     "name": "stdout",
     "output_type": "stream",
     "text": [
      "The training accuracy of LinearRegression is 0.8957994678890562\n",
      "The test accuracy of LinearRegression is 0.8994550077374865\n"
     ]
    }
   ],
   "source": [
    "lr.fit(x_train,y_train)\n",
    "pred_train=lr.predict(x_train)\n",
    "pred_test=lr.predict(x_test)\n",
    "train_score=r2_score(y_train,pred_train)\n",
    "test_score=r2_score(y_test,pred_test)\n",
    "print('The training accuracy of LinearRegression is', train_score)\n",
    "print('The test accuracy of LinearRegression is', test_score)"
   ]
  },
  {
   "cell_type": "markdown",
   "id": "df2fa57a",
   "metadata": {},
   "source": [
    "# Fitting the data to SupportVectorRegression model"
   ]
  },
  {
   "cell_type": "code",
   "execution_count": 56,
   "id": "094bc8f1",
   "metadata": {},
   "outputs": [
    {
     "name": "stdout",
     "output_type": "stream",
     "text": [
      "0.8890378972252673\n",
      "0.8019778933979981\n",
      "0.9131799038362434\n"
     ]
    }
   ],
   "source": [
    "kernellist=['linear','poly','rbf']\n",
    "for i in kernellist:\n",
    "    sv=SVR(kernel=i)\n",
    "    sv.fit(x_train,y_train)\n",
    "    print(sv.score(x_train,y_train))"
   ]
  },
  {
   "cell_type": "markdown",
   "id": "f3ecf65a",
   "metadata": {},
   "source": [
    "* Kernel 'rbf' has given us the best output, hence we will select 'rbf' for testing the model"
   ]
  },
  {
   "cell_type": "code",
   "execution_count": 57,
   "id": "47386197",
   "metadata": {},
   "outputs": [
    {
     "name": "stdout",
     "output_type": "stream",
     "text": [
      "The training accuracy of SVR is 0.9131799038362434\n",
      "The test accuracy of SVR is 0.8995851919787639\n"
     ]
    }
   ],
   "source": [
    "sv=SVR(kernel='rbf')\n",
    "sv.fit(x_train,y_train)\n",
    "pred_train=sv.predict(x_train)\n",
    "pred_test=sv.predict(x_test)\n",
    "train_score=r2_score(y_train,pred_train)\n",
    "test_score=r2_score(y_test,pred_test)\n",
    "print('The training accuracy of SVR is', train_score)\n",
    "print('The test accuracy of SVR is', test_score)"
   ]
  },
  {
   "cell_type": "markdown",
   "id": "cc0577d9",
   "metadata": {},
   "source": [
    "# Checking our model through DecisionTreeRegressor"
   ]
  },
  {
   "cell_type": "code",
   "execution_count": 58,
   "id": "e02bcc76",
   "metadata": {},
   "outputs": [
    {
     "name": "stdout",
     "output_type": "stream",
     "text": [
      "The training accuracy of DT is 1.0\n",
      "The test accuracy of DT is 0.9465602677134951\n"
     ]
    }
   ],
   "source": [
    "from sklearn.tree import DecisionTreeRegressor\n",
    "dt=DecisionTreeRegressor()\n",
    "dt.fit(x_train,y_train)\n",
    "pred_train=dt.predict(x_train)\n",
    "pred_test=dt.predict(x_test)\n",
    "train_score=r2_score(y_train,pred_train)\n",
    "test_score=r2_score(y_test,pred_test)\n",
    "print('The training accuracy of DT is', train_score)\n",
    "print('The test accuracy of DT is', test_score)"
   ]
  },
  {
   "cell_type": "markdown",
   "id": "a47d3b9b",
   "metadata": {},
   "source": [
    "* The training accuracy is 1.0 through DTR but test accuracy is 0.92`"
   ]
  },
  {
   "cell_type": "markdown",
   "id": "e01020f6",
   "metadata": {},
   "source": [
    "# Now Let's use Random Forest Regressor model"
   ]
  },
  {
   "cell_type": "code",
   "execution_count": 59,
   "id": "1e5fb4cb",
   "metadata": {},
   "outputs": [
    {
     "name": "stdout",
     "output_type": "stream",
     "text": [
      "The training accuracy of RF is 0.9961148636078847\n",
      "The test accuracy of RF is 0.9818690789923121\n"
     ]
    }
   ],
   "source": [
    "from sklearn.ensemble import RandomForestRegressor\n",
    "rf=RandomForestRegressor()\n",
    "rf.fit(x_train,y_train)\n",
    "pred_train=rf.predict(x_train)\n",
    "pred_test=rf.predict(x_test)\n",
    "train_score=r2_score(y_train,pred_train)\n",
    "test_score=r2_score(y_test,pred_test)\n",
    "print('The training accuracy of RF is', train_score)\n",
    "print('The test accuracy of RF is', test_score)"
   ]
  },
  {
   "cell_type": "markdown",
   "id": "d8590abe",
   "metadata": {},
   "source": [
    "* So far RFR has given us the best accuracy on training and testing data`"
   ]
  },
  {
   "cell_type": "markdown",
   "id": "b258b35c",
   "metadata": {},
   "source": [
    "# Cross Validation"
   ]
  },
  {
   "cell_type": "markdown",
   "id": "2c2d2163",
   "metadata": {},
   "source": [
    " * We`ll cross validate our model"
   ]
  },
  {
   "cell_type": "code",
   "execution_count": 62,
   "id": "f00a21e2",
   "metadata": {},
   "outputs": [
    {
     "name": "stdout",
     "output_type": "stream",
     "text": [
      "Mean Accuracy of LinearRegression()\n",
      "0.8873331295445761\n",
      "\n",
      "\n",
      "Mean Accuracy of DecisionTreeRegressor()\n",
      "0.9540970319973672\n",
      "\n",
      "\n",
      "Mean Accuracy of SVR()\n",
      "0.9011953652320344\n",
      "\n",
      "\n",
      "Mean Accuracy of RandomForestRegressor()\n",
      "0.9742669363760033\n",
      "\n",
      "\n"
     ]
    }
   ],
   "source": [
    "model=(lr,dt,sv,rf)\n",
    "for m in model:\n",
    "    score=cross_val_score(m,x,y,cv=5)\n",
    "    print('Mean Accuracy of', m)\n",
    "    print(score.mean())\n",
    "    print('\\n')"
   ]
  },
  {
   "cell_type": "code",
   "execution_count": 78,
   "id": "bebe4a98",
   "metadata": {},
   "outputs": [],
   "source": [
    "Performance={'Model':['LR','SVR','DTR','RFR'],\n",
    "           'Trainig Score':[0.89,0.91,1.0,0.99],\n",
    "           'Testing score':[0.89,0.89,0.94,0.98],\n",
    "           'CV Score':[0.88,0.95, 0.90, 0.97]}"
   ]
  },
  {
   "cell_type": "code",
   "execution_count": 79,
   "id": "d956c4ca",
   "metadata": {},
   "outputs": [],
   "source": [
    "Model=pd.DataFrame(data=Performance)"
   ]
  },
  {
   "cell_type": "code",
   "execution_count": 80,
   "id": "7f52088b",
   "metadata": {},
   "outputs": [
    {
     "data": {
      "text/html": [
       "<div>\n",
       "<style scoped>\n",
       "    .dataframe tbody tr th:only-of-type {\n",
       "        vertical-align: middle;\n",
       "    }\n",
       "\n",
       "    .dataframe tbody tr th {\n",
       "        vertical-align: top;\n",
       "    }\n",
       "\n",
       "    .dataframe thead th {\n",
       "        text-align: right;\n",
       "    }\n",
       "</style>\n",
       "<table border=\"1\" class=\"dataframe\">\n",
       "  <thead>\n",
       "    <tr style=\"text-align: right;\">\n",
       "      <th></th>\n",
       "      <th>Model</th>\n",
       "      <th>Trainig Score</th>\n",
       "      <th>Testing score</th>\n",
       "      <th>CV Score</th>\n",
       "    </tr>\n",
       "  </thead>\n",
       "  <tbody>\n",
       "    <tr>\n",
       "      <th>0</th>\n",
       "      <td>LR</td>\n",
       "      <td>0.89</td>\n",
       "      <td>0.89</td>\n",
       "      <td>0.88</td>\n",
       "    </tr>\n",
       "    <tr>\n",
       "      <th>1</th>\n",
       "      <td>SVR</td>\n",
       "      <td>0.91</td>\n",
       "      <td>0.89</td>\n",
       "      <td>0.95</td>\n",
       "    </tr>\n",
       "    <tr>\n",
       "      <th>2</th>\n",
       "      <td>DTR</td>\n",
       "      <td>1.00</td>\n",
       "      <td>0.94</td>\n",
       "      <td>0.90</td>\n",
       "    </tr>\n",
       "    <tr>\n",
       "      <th>3</th>\n",
       "      <td>RFR</td>\n",
       "      <td>0.99</td>\n",
       "      <td>0.98</td>\n",
       "      <td>0.97</td>\n",
       "    </tr>\n",
       "  </tbody>\n",
       "</table>\n",
       "</div>"
      ],
      "text/plain": [
       "  Model  Trainig Score  Testing score  CV Score\n",
       "0    LR           0.89           0.89      0.88\n",
       "1   SVR           0.91           0.89      0.95\n",
       "2   DTR           1.00           0.94      0.90\n",
       "3   RFR           0.99           0.98      0.97"
      ]
     },
     "execution_count": 80,
     "metadata": {},
     "output_type": "execute_result"
    }
   ],
   "source": [
    "Model"
   ]
  },
  {
   "cell_type": "markdown",
   "id": "bf5795d6",
   "metadata": {},
   "source": [
    " * We can conclude that RandomforestRegressor Model has performed best.\n",
    "\n",
    "\n",
    "# Normalization and HyperTuning\n",
    "\n",
    "* Importing the required libraries for normalizing the coefficients and Hypertuning our model"
   ]
  },
  {
   "cell_type": "markdown",
   "id": "1bd3099e",
   "metadata": {},
   "source": [
    "* Using Lasso for Normalization\n",
    "\n",
    "* Lets check the best parameters for Lasso"
   ]
  },
  {
   "cell_type": "code",
   "execution_count": 81,
   "id": "e530a500",
   "metadata": {},
   "outputs": [
    {
     "name": "stdout",
     "output_type": "stream",
     "text": [
      "{'alpha': 0.1, 'random_state': 0}\n"
     ]
    }
   ],
   "source": [
    "parameters={'alpha':[.0001,.001,.01,.1,1,10],'random_state':list(range(0,10))}\n",
    "ls=Lasso()\n",
    "clf=GridSearchCV(ls,parameters)\n",
    "clf.fit(x_train,y_train)\n",
    "\n",
    "print(clf.best_params_)"
   ]
  },
  {
   "cell_type": "code",
   "execution_count": 82,
   "id": "c7eef409",
   "metadata": {},
   "outputs": [
    {
     "data": {
      "text/plain": [
       "0.8982753162349368"
      ]
     },
     "execution_count": 82,
     "metadata": {},
     "output_type": "execute_result"
    }
   ],
   "source": [
    "ls=Lasso(alpha=0.1,random_state=0)\n",
    "ls.fit(x_train,y_train)\n",
    "pred_ls=ls.predict(x_test)\n",
    "lss=r2_score(y_test,pred_ls)\n",
    "lss"
   ]
  },
  {
   "cell_type": "code",
   "execution_count": 83,
   "id": "3b6ae073",
   "metadata": {},
   "outputs": [
    {
     "data": {
      "text/plain": [
       "0.8884792606387284"
      ]
     },
     "execution_count": 83,
     "metadata": {},
     "output_type": "execute_result"
    }
   ],
   "source": [
    "cv_score=cross_val_score(ls,x,y,cv=5)\n",
    "cv_mean=cv_score.mean()\n",
    "cv_mean"
   ]
  },
  {
   "cell_type": "markdown",
   "id": "635803b4",
   "metadata": {},
   "source": [
    "# We got 0.89 score for training and 0.88 through cross validation from Lasso\n",
    "\n",
    "* Select parameters for Hypertuning the RFR model"
   ]
  },
  {
   "cell_type": "code",
   "execution_count": 84,
   "id": "0f7a94df",
   "metadata": {},
   "outputs": [],
   "source": [
    "parameters={'max_features':['auto','sqrt','log2'],'criterion':['mse','mae'],'max_depth':np.arange(2,10)}"
   ]
  },
  {
   "cell_type": "code",
   "execution_count": 85,
   "id": "d2c2ee74",
   "metadata": {},
   "outputs": [],
   "source": [
    "GCV=GridSearchCV(RandomForestRegressor(),parameters,cv=3)"
   ]
  },
  {
   "cell_type": "markdown",
   "id": "3f00bec7",
   "metadata": {},
   "source": [
    "* Fitting the model to Grid Seach to check for the best parameters"
   ]
  },
  {
   "cell_type": "code",
   "execution_count": 86,
   "id": "9c658aba",
   "metadata": {},
   "outputs": [
    {
     "data": {
      "text/plain": [
       "GridSearchCV(cv=3, estimator=RandomForestRegressor(),\n",
       "             param_grid={'criterion': ['mse', 'mae'],\n",
       "                         'max_depth': array([2, 3, 4, 5, 6, 7, 8, 9]),\n",
       "                         'max_features': ['auto', 'sqrt', 'log2']})"
      ]
     },
     "execution_count": 86,
     "metadata": {},
     "output_type": "execute_result"
    }
   ],
   "source": [
    "GCV.fit(x_train,y_train)"
   ]
  },
  {
   "cell_type": "code",
   "execution_count": 87,
   "id": "0d3f2e2f",
   "metadata": {},
   "outputs": [
    {
     "data": {
      "text/plain": [
       "{'criterion': 'mae', 'max_depth': 8, 'max_features': 'auto'}"
      ]
     },
     "execution_count": 87,
     "metadata": {},
     "output_type": "execute_result"
    }
   ],
   "source": [
    "GCV.best_params_"
   ]
  },
  {
   "cell_type": "code",
   "execution_count": 88,
   "id": "75a7aad0",
   "metadata": {},
   "outputs": [
    {
     "name": "stdout",
     "output_type": "stream",
     "text": [
      "R2 Score 98.18067880038434\n",
      "Cross Val score 97.55763975735616\n"
     ]
    }
   ],
   "source": [
    "Finalmodel=RandomForestRegressor(criterion='mse', max_depth= 8, max_features= 'auto')\n",
    "Finalmodel.fit(x_train,y_train)\n",
    "pred_final=Finalmodel.predict(x_test)\n",
    "rfs=r2_score(y_test,pred_final)\n",
    "print('R2 Score', rfs*100)\n",
    "\n",
    "rfscore=cross_val_score(Finalmodel,x,y,cv=5)\n",
    "rfc=rfscore.mean()\n",
    "print('Cross Val score', rfc*100)"
   ]
  },
  {
   "cell_type": "markdown",
   "id": "2fcea7f9",
   "metadata": {},
   "source": [
    "# We have got good accuracy of 98% on training and 97% on Cross validation\n",
    "\n",
    " * Lets Visualize our model"
   ]
  },
  {
   "cell_type": "code",
   "execution_count": 89,
   "id": "d0b35169",
   "metadata": {},
   "outputs": [
    {
     "data": {
      "image/png": "[encoded data removed]",
      "text/plain": [
       "<Figure size 576x432 with 1 Axes>"
      ]
     },
     "metadata": {
      "needs_background": "light"
     },
     "output_type": "display_data"
    }
   ],
   "source": [
    "plt.figure(figsize=(8,6))\n",
    "plt.scatter(x=y_test,y=pred_final,color='r')\n",
    "plt.plot(y_test,y_test,color='b')\n",
    "plt.xlabel('Actual Sales',fontsize=14)\n",
    "plt.ylabel('Predicted Sales',fontsize=14)\n",
    "plt.title('RandomForestRegressor',fontsize=18)\n",
    "plt.show()"
   ]
  },
  {
   "cell_type": "markdown",
   "id": "04d1face",
   "metadata": {},
   "source": [
    "* We can see that the line fits near the predicted values. Hence we can conclude our model is performing well."
   ]
  },
  {
   "cell_type": "code",
   "execution_count": 90,
   "id": "2ac93a3d",
   "metadata": {},
   "outputs": [
    {
     "data": {
      "text/plain": [
       "['Advertising_Sales.obj']"
      ]
     },
     "execution_count": 90,
     "metadata": {},
     "output_type": "execute_result"
    }
   ],
   "source": [
    "import joblib\n",
    "joblib.dump(Finalmodel,'Advertising_Sales.obj')"
   ]
  },
  {
   "cell_type": "code",
   "execution_count": null,
   "id": "2684e992",
   "metadata": {},
   "outputs": [],
   "source": []
  }
 ],
 "metadata": {
  "kernelspec": {
   "display_name": "Python 3 (ipykernel)",
   "language": "python",
   "name": "python3"
  },
  "language_info": {
   "codemirror_mode": {
    "name": "ipython",
    "version": 3
   },
   "file_extension": ".py",
   "mimetype": "text/x-python",
   "name": "python",
   "nbconvert_exporter": "python",
   "pygments_lexer": "ipython3",
   "version": "3.9.7"
  }
 },
 "nbformat": 4,
 "nbformat_minor": 5
}
